{
 "cells": [
  {
   "cell_type": "markdown",
   "id": "2162f176-f4a8-402d-80c7-8c686a150dc8",
   "metadata": {},
   "source": [
    "The purpose of this notebook is to rename columns"
   ]
  },
  {
   "cell_type": "code",
   "execution_count": 21,
   "id": "f26c52b0-3df0-475b-9965-6ed49518de94",
   "metadata": {},
   "outputs": [
    {
     "data": {
      "text/plain": [
       "Index(['date', 'time', 'LOCATION', 'LAT', 'LON', 'category'], dtype='object')"
      ]
     },
     "execution_count": 21,
     "metadata": {},
     "output_type": "execute_result"
    }
   ],
   "source": [
    "import pandas as pd\n",
    "\n",
    "df = pd.read_csv(\"20.csv\")\n",
    "df.columns"
   ]
  },
  {
   "cell_type": "code",
   "execution_count": 23,
   "id": "c21ecfde-6578-4123-bac8-611a008287de",
   "metadata": {},
   "outputs": [],
   "source": [
    "\n",
    "new_columns = ['date', 'time', 'location', 'Latitude', 'Longitude', 'category']  # Replace with your new column names\n",
    "df.columns = new_columns\n",
    "\n",
    "# Step 3: Export to CSV\n",
    "df.to_csv('2020.csv', index=False)  # Set index=False to avoid saving the index as a column in the CSV\n"
   ]
  },
  {
   "cell_type": "code",
   "execution_count": 35,
   "id": "d056fda7-bf47-4f3b-bd8f-e98b3961b4d9",
   "metadata": {},
   "outputs": [
    {
     "name": "stdout",
     "output_type": "stream",
     "text": [
      "category\n",
      "Other      173349\n",
      "Theft       12482\n",
      "Violent      6877\n",
      "Name: count, dtype: int64\n"
     ]
    }
   ],
   "source": [
    "# Count of unique values in 'category' column\n",
    "unique_counts = df['category'].value_counts()\n",
    "\n",
    "print(unique_counts)"
   ]
  },
  {
   "cell_type": "code",
   "execution_count": 37,
   "id": "94b30631-87fb-4920-996d-b9b1c90cc35a",
   "metadata": {},
   "outputs": [
    {
     "name": "stdout",
     "output_type": "stream",
     "text": [
      "['Other' 'Theft' 'Violent']\n"
     ]
    }
   ],
   "source": [
    "# Count of unique values in 'category' column\n",
    "unique_counts = df['category'].unique()\n",
    "\n",
    "print(unique_counts)"
   ]
  }
 ],
 "metadata": {
  "kernelspec": {
   "display_name": "Python 3 (ipykernel)",
   "language": "python",
   "name": "python3"
  },
  "language_info": {
   "codemirror_mode": {
    "name": "ipython",
    "version": 3
   },
   "file_extension": ".py",
   "mimetype": "text/x-python",
   "name": "python",
   "nbconvert_exporter": "python",
   "pygments_lexer": "ipython3",
   "version": "3.11.5"
  }
 },
 "nbformat": 4,
 "nbformat_minor": 5
}
