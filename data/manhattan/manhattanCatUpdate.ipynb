{
 "cells": [
  {
   "cell_type": "code",
   "execution_count": 49,
   "id": "5e3f4cd1-bf37-48ee-a59e-f3d6eff0551b",
   "metadata": {},
   "outputs": [
    {
     "data": {
      "text/html": [
       "<div>\n",
       "<style scoped>\n",
       "    .dataframe tbody tr th:only-of-type {\n",
       "        vertical-align: middle;\n",
       "    }\n",
       "\n",
       "    .dataframe tbody tr th {\n",
       "        vertical-align: top;\n",
       "    }\n",
       "\n",
       "    .dataframe thead th {\n",
       "        text-align: right;\n",
       "    }\n",
       "</style>\n",
       "<table border=\"1\" class=\"dataframe\">\n",
       "  <thead>\n",
       "    <tr style=\"text-align: right;\">\n",
       "      <th></th>\n",
       "      <th>Date</th>\n",
       "      <th>Description</th>\n",
       "      <th>Type</th>\n",
       "      <th>Latitude</th>\n",
       "      <th>Longitude</th>\n",
       "    </tr>\n",
       "  </thead>\n",
       "  <tbody>\n",
       "    <tr>\n",
       "      <th>0</th>\n",
       "      <td>1/1/2023</td>\n",
       "      <td>FRAUDS</td>\n",
       "      <td>MISDEMEANOR</td>\n",
       "      <td>40.858943</td>\n",
       "      <td>-73.932548</td>\n",
       "    </tr>\n",
       "    <tr>\n",
       "      <th>1</th>\n",
       "      <td>1/1/2023</td>\n",
       "      <td>FRAUDS</td>\n",
       "      <td>MISDEMEANOR</td>\n",
       "      <td>40.831271</td>\n",
       "      <td>-73.948241</td>\n",
       "    </tr>\n",
       "    <tr>\n",
       "      <th>2</th>\n",
       "      <td>1/1/2023</td>\n",
       "      <td>THEFT-FRAUD</td>\n",
       "      <td>FELONY</td>\n",
       "      <td>40.736312</td>\n",
       "      <td>-74.007464</td>\n",
       "    </tr>\n",
       "    <tr>\n",
       "      <th>3</th>\n",
       "      <td>1/1/2023</td>\n",
       "      <td>GRAND LARCENY</td>\n",
       "      <td>FELONY</td>\n",
       "      <td>40.758772</td>\n",
       "      <td>-73.973874</td>\n",
       "    </tr>\n",
       "    <tr>\n",
       "      <th>4</th>\n",
       "      <td>1/1/2023</td>\n",
       "      <td>HARRASSMENT 2</td>\n",
       "      <td>VIOLATION</td>\n",
       "      <td>40.712882</td>\n",
       "      <td>-73.980783</td>\n",
       "    </tr>\n",
       "  </tbody>\n",
       "</table>\n",
       "</div>"
      ],
      "text/plain": [
       "       Date    Description         Type   Latitude  Longitude\n",
       "0  1/1/2023         FRAUDS  MISDEMEANOR  40.858943 -73.932548\n",
       "1  1/1/2023         FRAUDS  MISDEMEANOR  40.831271 -73.948241\n",
       "2  1/1/2023    THEFT-FRAUD       FELONY  40.736312 -74.007464\n",
       "3  1/1/2023  GRAND LARCENY       FELONY  40.758772 -73.973874\n",
       "4  1/1/2023  HARRASSMENT 2    VIOLATION  40.712882 -73.980783"
      ]
     },
     "execution_count": 49,
     "metadata": {},
     "output_type": "execute_result"
    }
   ],
   "source": [
    "import pandas as pd\n",
    "df = pd.read_csv('2023.csv')\n",
    "df.head()"
   ]
  },
  {
   "cell_type": "code",
   "execution_count": 3,
   "id": "2d6ea605-6986-449a-b240-2556c984e0e0",
   "metadata": {},
   "outputs": [
    {
     "name": "stdout",
     "output_type": "stream",
     "text": [
      "PETIT LARCENY: 24407\n",
      "HARRASSMENT 2: 12828\n",
      "GRAND LARCENY: 11816\n",
      "CRIMINAL MISCHIEF & RELATED OF: 10002\n",
      "ASSAULT 3 & RELATED OFFENSES: 8633\n",
      "BURGLARY: 4666\n",
      "FELONY ASSAULT: 3764\n",
      "OFF. AGNST PUB ORD SENSBLTY &: 3339\n",
      "ROBBERY: 3051\n",
      "DANGEROUS DRUGS: 2384\n",
      "MISCELLANEOUS PENAL LAW: 1722\n",
      "OFFENSES AGAINST PUBLIC ADMINI: 1576\n",
      "GRAND LARCENY OF MOTOR VEHICLE: 1374\n",
      "SEX CRIMES: 1138\n",
      "VEHICLE AND TRAFFIC LAWS: 1064\n",
      "DANGEROUS WEAPONS: 812\n",
      "THEFT-FRAUD: 724\n",
      "CRIMINAL TRESPASS: 632\n",
      "FRAUDS: 495\n",
      "FORGERY: 438\n",
      "POSSESSION OF STOLEN PROPERTY: 313\n",
      "INTOXICATED & IMPAIRED DRIVING: 280\n",
      "RAPE: 245\n",
      "OFFENSES AGAINST THE PERSON: 235\n",
      "OFFENSES INVOLVING FRAUD: 207\n",
      "NYS LAWS-UNCLASSIFIED FELONY: 204\n",
      "UNAUTHORIZED USE OF A VEHICLE: 199\n",
      "OTHER OFFENSES RELATED TO THEF: 165\n",
      "ARSON: 133\n",
      "ADMINISTRATIVE CODE: 94\n",
      "BURGLAR'S TOOLS: 89\n",
      "MURDER & NON-NEGL. MANSLAUGHTER: 83\n",
      "THEFT OF SERVICES: 59\n",
      "OTHER STATE LAWS (NON PENAL LA: 34\n",
      "FRAUDULENT ACCOSTING: 31\n",
      "AGRICULTURE & MRKTS LAW-UNCLASSIFIED: 25\n",
      "GAMBLING: 21\n",
      "PETIT LARCENY OF MOTOR VEHICLE: 17\n",
      "KIDNAPPING & RELATED OFFENSES: 16\n",
      "OFFENSES AGAINST PUBLIC SAFETY: 13\n",
      "JOSTLING: 7\n",
      "DISORDERLY CONDUCT: 6\n",
      "HOMICIDE-NEGLIGENT,UNCLASSIFIE: 5\n",
      "CHILD ABANDONMENT/NON SUPPORT: 5\n",
      "PROSTITUTION & RELATED OFFENSES: 3\n",
      "FELONY SEX CRIMES: 2\n",
      "ESCAPE 3: 2\n",
      "NEW YORK CITY HEALTH CODE: 2\n",
      "NYS LAWS-UNCLASSIFIED VIOLATION: 1\n",
      "OTHER STATE LAWS: 1\n",
      "(null): 1\n",
      "ALCOHOLIC BEVERAGE CONTROL LAW: 1\n",
      "FORTUNE TELLING: 1\n"
     ]
    }
   ],
   "source": [
    "unique_counts = df['Description'].value_counts()\n",
    "\n",
    "for value, count in unique_counts.items():\n",
    "    print(f\"{value}: {count}\")"
   ]
  },
  {
   "cell_type": "code",
   "execution_count": 51,
   "id": "38b9dcb2-c3ba-40eb-96e1-cfa0e748e676",
   "metadata": {},
   "outputs": [
    {
     "name": "stdout",
     "output_type": "stream",
     "text": [
      "              Date                     Description         Type   Latitude  \\\n",
      "0         1/1/2023                          FRAUDS  MISDEMEANOR  40.858943   \n",
      "1         1/1/2023                          FRAUDS  MISDEMEANOR  40.831271   \n",
      "2         1/1/2023                     THEFT-FRAUD       FELONY  40.736312   \n",
      "3         1/1/2023                   GRAND LARCENY       FELONY  40.758772   \n",
      "4         1/1/2023                   HARRASSMENT 2    VIOLATION  40.712882   \n",
      "...            ...                             ...          ...        ...   \n",
      "129703  12/31/2023    ASSAULT 3 & RELATED OFFENSES  MISDEMEANOR  40.757232   \n",
      "129704  12/31/2023                        JOSTLING  MISDEMEANOR  40.757232   \n",
      "129705  12/31/2023  OFFENSES AGAINST PUBLIC ADMINI  MISDEMEANOR  40.711945   \n",
      "129706  12/31/2023                  FELONY ASSAULT       FELONY  40.812592   \n",
      "129707  12/31/2023    ASSAULT 3 & RELATED OFFENSES  MISDEMEANOR  40.767316   \n",
      "\n",
      "        Longitude category  \n",
      "0      -73.932548    Theft  \n",
      "1      -73.948241    Theft  \n",
      "2      -74.007464    Theft  \n",
      "3      -73.973874    Theft  \n",
      "4      -73.980783    Other  \n",
      "...           ...      ...  \n",
      "129703 -73.989792  Violent  \n",
      "129704 -73.989792    Other  \n",
      "129705 -73.989853    Other  \n",
      "129706 -73.952026  Violent  \n",
      "129707 -73.984297  Violent  \n",
      "\n",
      "[129708 rows x 6 columns]\n"
     ]
    }
   ],
   "source": [
    "# Defining keywords for categorization\n",
    "violent_keywords = ['ASSAULT', 'MURDER', 'ROBBERY', 'KIDNAPPING', 'DISTURBANCE', 'BOMB', 'THREAT',\n",
    "                    'CRASH', 'WEAPON', 'DEADLY', 'RAPE', 'FELON', 'ARSON', 'EXPLOSIVE', 'INJURY', 'TERRORISTIC', 'HOMICIDE']\n",
    "theft_keywords = ['THEFT', 'BURGLARY', 'SHOPLIFTING', 'AUTO THEFT', 'CARD', 'FORGERY', 'COUNTERFEITING', \n",
    "                  'LARCENY', 'THEF', 'STOLEN', 'FRAUDS']\n",
    "\n",
    "# Function to categorize crimes based on keywords\n",
    "def categorize_crime(description):\n",
    "    description_upper = description.upper()  # Convert to uppercase for case-insensitive matching\n",
    "    \n",
    "    if any(keyword in description_upper for keyword in violent_keywords):\n",
    "        return 'Violent'\n",
    "    elif any(keyword in description_upper for keyword in theft_keywords):\n",
    "        return 'Theft'\n",
    "    else:\n",
    "        return 'Other'\n",
    "\n",
    "# Applying the function to create a new column 'type'\n",
    "df['category'] = df['Description'].apply(categorize_crime)\n",
    "\n",
    "# Displaying the DataFrame\n",
    "print(df)"
   ]
  },
  {
   "cell_type": "code",
   "execution_count": 53,
   "id": "8331455a-ee0b-4f40-9996-1563332bf779",
   "metadata": {},
   "outputs": [
    {
     "name": "stdout",
     "output_type": "stream",
     "text": [
      "Modified CSV file saved as 2023.csv\n"
     ]
    }
   ],
   "source": [
    "output_file = '2023.csv'\n",
    "df.to_csv(output_file, index=False)\n",
    "\n",
    "print(f\"Modified CSV file saved as {output_file}\")"
   ]
  }
 ],
 "metadata": {
  "kernelspec": {
   "display_name": "Python 3 (ipykernel)",
   "language": "python",
   "name": "python3"
  },
  "language_info": {
   "codemirror_mode": {
    "name": "ipython",
    "version": 3
   },
   "file_extension": ".py",
   "mimetype": "text/x-python",
   "name": "python",
   "nbconvert_exporter": "python",
   "pygments_lexer": "ipython3",
   "version": "3.11.5"
  }
 },
 "nbformat": 4,
 "nbformat_minor": 5
}
